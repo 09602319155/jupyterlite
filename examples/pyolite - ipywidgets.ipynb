{
 "cells": [
  {
   "cell_type": "code",
   "execution_count": null,
   "id": "3bab23f8-de91-43c9-9cec-84f4924425fc",
   "metadata": {},
   "outputs": [],
   "source": [
    "from ipywidgets import IntSlider"
   ]
  },
  {
   "cell_type": "code",
   "execution_count": null,
   "id": "a15c5acb-ee72-4005-8761-5693db853f22",
   "metadata": {},
   "outputs": [],
   "source": [
    "slider = IntSlider()"
   ]
  },
  {
   "cell_type": "code",
   "execution_count": null,
   "id": "8ba89682-e0d7-4bd2-961a-f9956850fd5a",
   "metadata": {},
   "outputs": [],
   "source": [
    "slider"
   ]
  },
  {
   "cell_type": "code",
   "execution_count": null,
   "id": "50510ade-668f-4477-8cb2-41574609ac73",
   "metadata": {},
   "outputs": [],
   "source": [
    "slider"
   ]
  },
  {
   "cell_type": "code",
   "execution_count": null,
   "id": "7bac1ed8-8c77-426b-a781-1c1a6cfad829",
   "metadata": {},
   "outputs": [],
   "source": [
    "slider.value"
   ]
  },
  {
   "cell_type": "code",
   "execution_count": null,
   "id": "976a70a0-e99d-4c20-b005-f59bbba10f85",
   "metadata": {},
   "outputs": [],
   "source": [
    "slider.value = 5"
   ]
  },
  {
   "cell_type": "code",
   "execution_count": null,
   "id": "23b32857-2958-4083-b16a-ac26cd2408d4",
   "metadata": {},
   "outputs": [],
   "source": [
    "from bqplot import *\n",
    "\n",
    "import numpy as np\n",
    "import pandas as pd\n",
    "\n",
    "np.random.seed(0)\n",
    "y1 = np.cumsum(np.random.randn(150)) + 100.\n",
    "y2 = np.cumsum(np.random.randn(150)) + 100.\n",
    "y3 = np.cumsum(np.random.randn(150)) + 100.\n",
    "y4 = np.cumsum(np.random.randn(150)) + 100.\n",
    "\n",
    "sc_x = LinearScale()\n",
    "sc_y = LinearScale()\n",
    "\n",
    "lines = Lines(x=np.arange(len(y1)), y=[y1, y2, y3, y4],\n",
    "             scales={'x': sc_x, 'y': sc_y})\n",
    "ax_x = Axis(scale=sc_x, label='Index')\n",
    "ax_y = Axis(scale=sc_y, orientation='vertical', label='lines')\n",
    "\n",
    "Figure(marks=[lines], axes=[ax_x, ax_y], title='Lines', animation_duration=1000)"
   ]
  },
  {
   "cell_type": "code",
   "execution_count": null,
   "id": "ddb6b44e-06a0-4049-a79d-33ffc90d5a03",
   "metadata": {},
   "outputs": [],
   "source": [
    "lines.colors = ['red', 'green']"
   ]
  },
  {
   "cell_type": "code",
   "execution_count": null,
   "id": "e367e7fb-b403-41aa-9629-224827ec3005",
   "metadata": {},
   "outputs": [],
   "source": [
    "lines.fill = 'bottom'"
   ]
  },
  {
   "cell_type": "code",
   "execution_count": null,
   "id": "d4a167f3-07c4-4880-92f5-7fcdea0c61c6",
   "metadata": {},
   "outputs": [],
   "source": [
    "lines.marker = 'circle'"
   ]
  }
 ],
 "metadata": {
  "kernelspec": {
   "display_name": "Python 3",
   "language": "python",
   "name": "python3"
  },
  "language_info": {
   "codemirror_mode": {
    "name": "ipython",
    "version": 3
   },
   "file_extension": ".py",
   "mimetype": "text/x-python",
   "name": "python",
   "nbconvert_exporter": "python",
   "pygments_lexer": "ipython3",
   "version": "3.8.10"
  }
 },
 "nbformat": 4,
 "nbformat_minor": 5
}
