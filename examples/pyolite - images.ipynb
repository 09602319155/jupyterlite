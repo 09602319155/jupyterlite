{
 "cells": [
  {
   "cell_type": "markdown",
   "id": "541d1dcb-a8eb-4971-8ded-33543e91fea6",
   "metadata": {},
   "source": [
    "# `PIL.Image` Demo\n",
    "\n",
    "PIL is the **Python Image Library**, and has excellent [documentation](https://pillow.readthedocs.io/en/latest/index.html).\n",
    "\n",
    "This is a simple demonstration of rendering PIL images in a `jupyterlite` notebook. Most of PIL should work as designed."
   ]
  },
  {
   "cell_type": "markdown",
   "id": "455bb1da-8f81-4863-8495-1de97abd1446",
   "metadata": {},
   "source": [
    "## Import the Library\n",
    "\n",
    "`jupyterlite` comes with PIL, so you only need import what you need from it."
   ]
  },
  {
   "cell_type": "code",
   "execution_count": null,
   "id": "c84e7d32-aae0-4fd1-8609-a3509b2113f2",
   "metadata": {},
   "outputs": [],
   "source": [
    "from PIL import Image"
   ]
  },
  {
   "cell_type": "markdown",
   "id": "00083e52-68d6-461f-8007-5804f57a1f21",
   "metadata": {},
   "source": [
    "## Create a new Image"
   ]
  },
  {
   "cell_type": "code",
   "execution_count": null,
   "id": "9a50cc2a-e53b-4687-83f5-b353fffd6721",
   "metadata": {},
   "outputs": [],
   "source": [
    "image = Image.new(\"RGB\", (100, 100))\n",
    "image"
   ]
  },
  {
   "cell_type": "markdown",
   "id": "9463b853-df3e-46ca-9018-21af1c55067e",
   "metadata": {},
   "source": [
    "## Open an existing Image\n",
    "\n",
    "Requires that the image be included in `jupyterlite`."
   ]
  },
  {
   "cell_type": "code",
   "execution_count": null,
   "id": "115e688f-9a77-422b-9801-485ba4c7401b",
   "metadata": {},
   "outputs": [],
   "source": [
    "logo = Image.open(\"jupyter.png\")\n",
    "logo"
   ]
  }
 ],
 "metadata": {
  "kernelspec": {
   "display_name": "Python 3",
   "language": "python",
   "name": "python3"
  },
  "language_info": {
   "codemirror_mode": {
    "name": "ipython",
    "version": 3
   },
   "file_extension": ".py",
   "mimetype": "text/x-python",
   "name": "python",
   "nbconvert_exporter": "python",
   "pygments_lexer": "ipython3",
   "version": "3.8.8"
  }
 },
 "nbformat": 4,
 "nbformat_minor": 4
}
