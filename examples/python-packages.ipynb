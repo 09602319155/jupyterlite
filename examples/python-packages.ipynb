{
  "metadata": {
    "kernelspec": {
      "display_name": "Python (Pyodide)",
      "language": "python",
      "name": "python"
    },
    "language_info": {
      "codemirror_mode": {
        "name": "python",
        "version": 3
      },
      "file_extension": ".py",
      "mimetype": "text/x-python",
      "name": "python",
      "nbconvert_exporter": "python",
      "pygments_lexer": "ipython3",
      "version": "3.8"
    }
  },
  "nbformat_minor": 4,
  "nbformat": 4,
  "cells": [
    {
      "cell_type": "markdown",
      "source": "# Installing and importing Python packages in `pyolite`\n\n`pyolite`, the default Python kernel for JupyterLite powered by\n[pyodide](https://pyodide.org), supports installing packages from a number of sources:\n\n- packages distributed with `pyodide`\n  - these do not need to be explicitly installed\n- packages and shims distributed along with `pyolite`\n  - this includes some compatibility shims for the Jupyter stack\n- custom packages deployed with a JupyterLite site\n- pure python wheel packages on PyPI\n  - ending in _exactly_ `py3-none-any.whl`\n- or specially compiled wheels for the _exactly_ the version of pyodide and emscripten\n  installed\n  - ending in e.g. `cp310-cp310-emscripten_3_1_14_wasm32.whl`",
      "metadata": {}
    },
    {
      "cell_type": "markdown",
      "source": "## Recommended: `%pip install -q`\n\nThe **recommended** way to install packages in pyolite is the `%pip` magic:",
      "metadata": {}
    },
    {
      "cell_type": "code",
      "source": "%pip install -q \"traitlets >=5\" ipython",
      "metadata": {
        "trusted": true
      },
      "execution_count": null,
      "outputs": []
    },
    {
      "cell_type": "markdown",
      "source": "```{hint}\n- `%pip` helps keep your notebooks **portable** between different IPython runtimes.\n- `-q` helps keep this \"setup\" step reasonable when run under `ipykernel`\n```\n\n`%pip` supports a number of additional options:",
      "metadata": {}
    },
    {
      "cell_type": "code",
      "source": "%pip --help",
      "metadata": {},
      "execution_count": null,
      "outputs": []
    },
    {
      "cell_type": "markdown",
      "source": "### `--requirements`\n\nIn addition to (or instead of) package names, any number of `--requirements` (or shorthand `-r`) may be given, pointing to [requirements files][reqs-txt].\n\n[reqs-txt]: https://pip.pypa.io/en/stable/reference/requirements-file-format\n\nThese can be relative or absolute (though this can be tricky to predict).",
      "metadata": {}
    },
    {
      "cell_type": "code",
      "source": "%pip install -r data/requirements.txt",
      "metadata": {
        "trusted": true
      },
      "execution_count": null,
      "outputs": []
    },
    {
      "cell_type": "markdown",
      "source": "```{hint}\nUsing a `requirements.txt` is a good way to separate your content from your environment, \nand could be combined with other techniques to make even more portable notebooks.\n```",
      "metadata": {}
    },
    {
      "cell_type": "markdown",
      "source": "#### `requirement.txt` lines\n\nA number of simple types of requirement specifications are supported, including:\n- package names\n- package names with version specifiers supported by `micropip`\n- local `.whl` archives\n- URLs of `.whl` archives \n- `-r` to _more_ requirements files\n  - relative to the _requiring_ file, not the `%pip` working directory\n\nSome known **unsupported** features:\n\n- `.` or other local package paths\n  - but you _could_ \n    - `%pip install` a build tool (e.g. `flit`)\n      - use its Python API\n        - install the resulting `.whl`\n- `--editable` (or `-e.`) local or remote paths\n- any version control system (VCS) paths\n- non-`.whl` URLs or local archives\n- `--constraint` (or `-c`) contraint files\n- platform specifiers following `;`\n    - though this may be achievable",
      "metadata": {}
    },
    {
      "cell_type": "markdown",
      "source": "### Dealing with (missing) dependencies\n\nEven if a PyPI package _would be_ installable on pyolite, sometimes its dependencies\nwon't be.",
      "metadata": {}
    },
    {
      "cell_type": "code",
      "source": "try:\n    %pip install jupyter_server\nexcept Exception as err:\n    print(err)",
      "metadata": {},
      "execution_count": null,
      "outputs": []
    },
    {
      "cell_type": "markdown",
      "source": "### `--verbose`\n\nAs the real `pip` doesn't have an equivalent, `%pip` in pyolite maps the `--verbose`\nflag to `keep_going`.",
      "metadata": {}
    },
    {
      "cell_type": "code",
      "source": "try:\n    %pip install --verbose jupyter_server\nexcept Exception as err:\n    print(err)",
      "metadata": {},
      "execution_count": null,
      "outputs": []
    },
    {
      "cell_type": "markdown",
      "source": "```{warning}\nLeaving this on for real `pip` generates a **lot** of output!\n```",
      "metadata": {}
    },
    {
      "cell_type": "markdown",
      "source": "### `--no-deps`\n\nIf some missing dependencies don't bother you, you can forge ahead without _any_\ndependencies with the `--no-deps` flag.",
      "metadata": {}
    },
    {
      "cell_type": "code",
      "source": "%pip install jupyter_server --no-deps\nimport jupyter_server\n\njupyter_server.__version__",
      "metadata": {},
      "execution_count": null,
      "outputs": []
    },
    {
      "cell_type": "markdown",
      "source": "While importable, it won't have all of its features, and may require special approaches\nto access features.",
      "metadata": {}
    },
    {
      "cell_type": "code",
      "source": "try:\n    import jupyter_server.services.contents.filemanager\nexcept Exception as err:\n    print(err)",
      "metadata": {},
      "execution_count": null,
      "outputs": []
    },
    {
      "cell_type": "markdown",
      "source": "Going down this road can be long, depending on how much you really need a particular\nfunction.",
      "metadata": {}
    },
    {
      "cell_type": "markdown",
      "source": "## The Hard Way\n\nThe `piplite` package is importable, and can be used directly.",
      "metadata": {}
    },
    {
      "cell_type": "markdown",
      "source": "### Importing `piplite`\n\n`piplite` needs to be imported before it is used.",
      "metadata": {}
    },
    {
      "cell_type": "code",
      "source": "import piplite",
      "metadata": {},
      "execution_count": null,
      "outputs": []
    },
    {
      "cell_type": "markdown",
      "source": "This package **won't** be installable in a \"traditional\" IPython installation, so you\ncan gate it with an import check:",
      "metadata": {}
    },
    {
      "cell_type": "code",
      "source": "try:\n    import piplite\nexcept ImportError:\n    piplite = None",
      "metadata": {},
      "execution_count": null,
      "outputs": []
    },
    {
      "cell_type": "markdown",
      "source": "### `piplite.install`\n\n> `piplite.install` is a wrapper around\n> [`micropip.install`](https://pyodide.org/en/stable/usage/loading-packages.html#micropip),\n> and offers more browser-focused options than `%pip`\n\n```{warning}\nDue to browser limitations, `piplite.install` is an _asynchronous` function, so it must be `await`ed.\n```\n\n`piplite.install` supports either a single package:",
      "metadata": {}
    },
    {
      "cell_type": "code",
      "source": "await piplite.install(\"traitlets\")",
      "metadata": {},
      "execution_count": null,
      "outputs": []
    },
    {
      "cell_type": "markdown",
      "source": "or a list of packages:",
      "metadata": {}
    },
    {
      "cell_type": "code",
      "source": "await piplite.install([\"traitlets\", \"IPython\"])",
      "metadata": {},
      "execution_count": null,
      "outputs": []
    },
    {
      "cell_type": "markdown",
      "source": "It also has many additional options:",
      "metadata": {}
    },
    {
      "cell_type": "code",
      "source": "?piplite.install",
      "metadata": {},
      "execution_count": null,
      "outputs": []
    }
  ]
}