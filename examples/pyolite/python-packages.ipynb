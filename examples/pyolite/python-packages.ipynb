{
 "cells": [
  {
   "cell_type": "markdown",
   "metadata": {},
   "source": [
    "# Installing and importing Python packages in `pyolite`\n",
    "\n",
    "`pyolite`, the default Python kernel for JupyterLite powered by\n",
    "[pyodide](https://pyodide.org), supports installing packages from a number of sources:\n",
    "\n",
    "- packages distributed with `pyodide`\n",
    "  - these do not need to be explicitly installed\n",
    "- packages and shims distributed along with `pyolite`\n",
    "  - this includes some compatibility shims for the Jupyter stack\n",
    "- custom packages deployed with a JupyterLite site\n",
    "- pure python wheel packages on PyPI\n",
    "  - ending in _exactly_ `py3-none-any.whl`\n",
    "- or specially compiled wheels for the _exactly_ the version of pyodide and emscripten\n",
    "  installed\n",
    "  - ending in e.g. `cp310-cp310-emscripten_3_1_14_wasm32.whl`"
   ]
  },
  {
   "cell_type": "markdown",
   "metadata": {},
   "source": [
    "## Recommended: `%pip -q`\n",
    "\n",
    "The **recommended** way to install packages in pyolite is the `%pip` magic:"
   ]
  },
  {
   "cell_type": "code",
   "execution_count": null,
   "metadata": {},
   "outputs": [],
   "source": [
    "%pip install -q ipython"
   ]
  },
  {
   "cell_type": "markdown",
   "metadata": {},
   "source": [
    "```{hint}\n",
    "- `%pip` helps keep your notebooks **portable** between different IPython runtimes.\n",
    "- `-q` helps keep this \"setup\" step reasonable when run under `ipykernel`\n",
    "```\n",
    "\n",
    "`%pip` supports a number of additional options:"
   ]
  },
  {
   "cell_type": "code",
   "execution_count": null,
   "metadata": {},
   "outputs": [],
   "source": [
    "%pip --help"
   ]
  },
  {
   "cell_type": "markdown",
   "metadata": {},
   "source": [
    "### Dealing with (missing) dependencies\n",
    "\n",
    "Even if a PyPI package _would be_ installable on pyolite, sometimes its dependencies\n",
    "won't be."
   ]
  },
  {
   "cell_type": "code",
   "execution_count": null,
   "metadata": {},
   "outputs": [],
   "source": [
    "try:\n",
    "    %pip install jupyter_server\n",
    "except Exception as err:\n",
    "    print(err)"
   ]
  },
  {
   "cell_type": "markdown",
   "metadata": {},
   "source": [
    "### `--verbose`\n",
    "\n",
    "As the real `pip` doesn't have an equivalent, `%pip` in pyolite maps the `--verbose`\n",
    "flag to `keep_going`."
   ]
  },
  {
   "cell_type": "code",
   "execution_count": null,
   "metadata": {},
   "outputs": [],
   "source": [
    "try:\n",
    "    %pip install --verbose jupyter_server\n",
    "except Exception as err:\n",
    "    print(err)"
   ]
  },
  {
   "cell_type": "markdown",
   "metadata": {},
   "source": [
    "```{warning}\n",
    "Leaving this on for real `pip` generates a **lot** of output!\n",
    "```"
   ]
  },
  {
   "cell_type": "markdown",
   "metadata": {},
   "source": [
    "### `--no-deps`\n",
    "\n",
    "If some missing dependencies don't bother you, you can forge ahead without _any_\n",
    "dependencies with the `--no-deps` flag."
   ]
  },
  {
   "cell_type": "code",
   "execution_count": null,
   "metadata": {},
   "outputs": [],
   "source": [
    "%pip install jupyter_server --no-deps\n",
    "import jupyter_server\n",
    "\n",
    "jupyter_server.__version__"
   ]
  },
  {
   "cell_type": "markdown",
   "metadata": {},
   "source": [
    "While importable, it won't have all of its features, and may require special approaches\n",
    "to access features."
   ]
  },
  {
   "cell_type": "code",
   "execution_count": null,
   "metadata": {},
   "outputs": [],
   "source": [
    "try:\n",
    "    import jupyter_server.services.contents.filemanager\n",
    "except Exception as err:\n",
    "    print(err)"
   ]
  },
  {
   "cell_type": "markdown",
   "metadata": {},
   "source": [
    "Going down this road can be long, depending on how much you really need a particular\n",
    "function."
   ]
  },
  {
   "cell_type": "markdown",
   "metadata": {},
   "source": [
    "## The Hard Way\n",
    "\n",
    "The `piplite` package is importable, and can be used directly."
   ]
  },
  {
   "cell_type": "markdown",
   "metadata": {},
   "source": [
    "### Importing `piplite`\n",
    "\n",
    "`piplite` needs to be imported before it is used."
   ]
  },
  {
   "cell_type": "code",
   "execution_count": null,
   "metadata": {},
   "outputs": [],
   "source": [
    "import piplite"
   ]
  },
  {
   "cell_type": "markdown",
   "metadata": {},
   "source": [
    "This package **won't** be installable in a \"traditional\" IPython installation, so you\n",
    "can gate it with an import check:"
   ]
  },
  {
   "cell_type": "code",
   "execution_count": null,
   "metadata": {},
   "outputs": [],
   "source": [
    "try:\n",
    "    import piplite\n",
    "except ImportError:\n",
    "    piplite = None"
   ]
  },
  {
   "cell_type": "markdown",
   "metadata": {},
   "source": [
    "### `piplite.install`\n",
    "\n",
    "> `piplite.install` is a wrapper around\n",
    "> [`micropip.install`](https://pyodide.org/en/stable/usage/loading-packages.html#micropip),\n",
    "> and offers more browser-focused options than `%pip`\n",
    "\n",
    "```{warning}\n",
    "Due to browser limitations, `piplite.install` is an _asynchronous` function, so it must be `await`ed.\n",
    "```\n",
    "\n",
    "`piplite.install` supports either a single package:"
   ]
  },
  {
   "cell_type": "code",
   "execution_count": null,
   "metadata": {},
   "outputs": [],
   "source": [
    "await piplite.install(\"traitlets\")"
   ]
  },
  {
   "cell_type": "markdown",
   "metadata": {},
   "source": [
    "or a list of packages:"
   ]
  },
  {
   "cell_type": "code",
   "execution_count": null,
   "metadata": {},
   "outputs": [],
   "source": [
    "await piplite.install([\"traitlets\", \"IPython\"])"
   ]
  },
  {
   "cell_type": "markdown",
   "metadata": {},
   "source": [
    "It also has many additional options:"
   ]
  },
  {
   "cell_type": "code",
   "execution_count": null,
   "metadata": {},
   "outputs": [],
   "source": [
    "?piplite.install"
   ]
  }
 ],
 "metadata": {
  "kernelspec": {
   "display_name": "Python (Pyodide)",
   "language": "python",
   "name": "python"
  },
  "language_info": {
   "codemirror_mode": {
    "name": "python",
    "version": 3
   },
   "file_extension": ".py",
   "mimetype": "text/x-python",
   "name": "python",
   "nbconvert_exporter": "python",
   "pygments_lexer": "ipython3",
   "version": "3.8"
  }
 },
 "nbformat": 4,
 "nbformat_minor": 4
}
