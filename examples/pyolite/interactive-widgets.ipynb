{
 "cells": [
  {
   "cell_type": "markdown",
   "id": "f5cdcfac",
   "metadata": {},
   "source": [
    "# `ipywidgets` Interactive Demo\n",
    "\n",
    "Simple demonstration of rendering Interactive widgets in a `jupyterlite` notebook.\n",
    "\n",
    "`ipywidgets` can be installed in this deployment (it provides the\n",
    "@jupyter-widgets/jupyterlab-manager federated extension), but you will need to make your\n",
    "own deployment to have access to other interactive widgets libraries."
   ]
  },
  {
   "cell_type": "code",
   "execution_count": null,
   "id": "ab1d2fa1",
   "metadata": {},
   "outputs": [],
   "source": [
    "import piplite\n",
    "\n",
    "await piplite.install(\"ipywidgets\")"
   ]
  },
  {
   "cell_type": "code",
   "execution_count": null,
   "id": "93e664bd",
   "metadata": {},
   "outputs": [],
   "source": [
    "from ipywidgets import IntSlider"
   ]
  },
  {
   "cell_type": "code",
   "execution_count": null,
   "id": "dd996d5a",
   "metadata": {},
   "outputs": [],
   "source": [
    "slider = IntSlider()"
   ]
  },
  {
   "cell_type": "code",
   "execution_count": null,
   "id": "f9a8de4f",
   "metadata": {},
   "outputs": [],
   "source": [
    "slider"
   ]
  },
  {
   "cell_type": "code",
   "execution_count": null,
   "id": "c8d6f8ee",
   "metadata": {},
   "outputs": [],
   "source": [
    "slider"
   ]
  },
  {
   "cell_type": "code",
   "execution_count": null,
   "id": "1cf33bba",
   "metadata": {},
   "outputs": [],
   "source": [
    "slider.value"
   ]
  },
  {
   "cell_type": "code",
   "execution_count": null,
   "id": "c02c9e69",
   "metadata": {},
   "outputs": [],
   "source": [
    "slider.value = 5"
   ]
  },
  {
   "cell_type": "code",
   "execution_count": null,
   "id": "9181fc33",
   "metadata": {},
   "outputs": [],
   "source": [
    "from ipywidgets import IntText, link"
   ]
  },
  {
   "cell_type": "code",
   "execution_count": null,
   "id": "989d0fa1",
   "metadata": {},
   "outputs": [],
   "source": [
    "text = IntText()"
   ]
  },
  {
   "cell_type": "code",
   "execution_count": null,
   "id": "167f089c",
   "metadata": {},
   "outputs": [],
   "source": [
    "text"
   ]
  },
  {
   "cell_type": "code",
   "execution_count": null,
   "id": "7acce49b",
   "metadata": {},
   "outputs": [],
   "source": [
    "link((slider, \"value\"), (text, \"value\"));"
   ]
  },
  {
   "cell_type": "code",
   "execution_count": null,
   "id": "51047c54",
   "metadata": {},
   "outputs": [],
   "source": [
    "from ipywidgets import interact\n",
    "from IPython.display import Markdown, display\n",
    "\n",
    "\n",
    "@interact(cookies=slider)\n",
    "def cookies(cookies=slider.value, calories=(0, 150)):\n",
    "    total_calories = calories * cookies\n",
    "    if cookies:\n",
    "        display(\n",
    "            Markdown(\n",
    "                f\"If each cookie contains _{calories} calories_, _{cookies} cookies_ contain **{total_calories} calories**!\"\n",
    "            )\n",
    "        )\n",
    "    else:\n",
    "        display(Markdown(f\"No cookies!\"))\n",
    "    if total_calories > 2000:\n",
    "        display(Markdown(f\"> Maybe that's too many cookies...\"))"
   ]
  }
 ],
 "metadata": {
  "kernelspec": {
   "display_name": "Python 3",
   "language": "python",
   "name": "python3"
  },
  "language_info": {
   "codemirror_mode": {
    "name": "ipython",
    "version": 3
   },
   "file_extension": ".py",
   "mimetype": "text/x-python",
   "name": "python",
   "nbconvert_exporter": "python",
   "pygments_lexer": "ipython3",
   "version": "3.8.10"
  }
 },
 "nbformat": 4,
 "nbformat_minor": 5
}
