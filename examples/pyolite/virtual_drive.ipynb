{
  "metadata": {
    "language_info": {
      "codemirror_mode": {
        "name": "python",
        "version": 3
      },
      "file_extension": ".py",
      "mimetype": "text/x-python",
      "name": "python",
      "nbconvert_exporter": "python",
      "pygments_lexer": "ipython3",
      "version": "3.8"
    },
    "kernelspec": {
      "name": "python",
      "display_name": "Python (Pyodide)",
      "language": "python"
    }
  },
  "nbformat_minor": 4,
  "nbformat": 4,
  "cells": [
    {
      "cell_type": "markdown",
      "source": "## Virtual file system support\n\nPyolite mounts a virtual `/drive` directory which allows access to files that are provided by JupyterLite. ",
      "metadata": {}
    },
    {
      "cell_type": "markdown",
      "source": "```{warning}\n**NOTE:** The virtual file system **does not work when in private mode under Firefox** and you'll get permission errors. It will also fail to work if you **hard refresh** the page.\n```",
      "metadata": {}
    },
    {
      "cell_type": "code",
      "source": "from pathlib import Path",
      "metadata": {
        "trusted": true
      },
      "execution_count": null,
      "outputs": []
    },
    {
      "cell_type": "markdown",
      "source": "The kernel will be start in a location in the virtual drive.",
      "metadata": {}
    },
    {
      "cell_type": "code",
      "source": "Path.cwd()",
      "metadata": {
        "trusted": true
      },
      "execution_count": null,
      "outputs": []
    },
    {
      "cell_type": "markdown",
      "source": "### Directories",
      "metadata": {}
    },
    {
      "cell_type": "code",
      "source": "Path(\"dir\").exists()",
      "metadata": {
        "trusted": true
      },
      "execution_count": null,
      "outputs": []
    },
    {
      "cell_type": "markdown",
      "source": "New paths should appear almost immediately in the file tree.",
      "metadata": {}
    },
    {
      "cell_type": "code",
      "source": "Path(\"dir\").mkdir(exist_ok=True)",
      "metadata": {
        "trusted": true
      },
      "execution_count": null,
      "outputs": []
    },
    {
      "cell_type": "markdown",
      "source": "### List directory content",
      "metadata": {}
    },
    {
      "cell_type": "code",
      "source": "sorted(Path.cwd().glob(\"*\"))",
      "metadata": {
        "trusted": true
      },
      "execution_count": null,
      "outputs": []
    },
    {
      "cell_type": "markdown",
      "source": "### Remove",
      "metadata": {}
    },
    {
      "cell_type": "markdown",
      "source": "Contents should disappear immediately from the _file browser_ when removed.",
      "metadata": {}
    },
    {
      "cell_type": "code",
      "source": "Path(\"dir\").exists() and Path.rmdir(Path(\"dir\"))",
      "metadata": {
        "trusted": true
      },
      "execution_count": null,
      "outputs": []
    },
    {
      "cell_type": "code",
      "source": "sorted(Path.cwd().glob(\"*\"))",
      "metadata": {
        "trusted": true
      },
      "execution_count": null,
      "outputs": []
    },
    {
      "cell_type": "markdown",
      "source": "### Reading/writing file",
      "metadata": {
        "tags": []
      }
    },
    {
      "cell_type": "code",
      "source": "Path('test.txt').write_text('Hello! I write this from the kernel worker')",
      "metadata": {
        "trusted": true
      },
      "execution_count": null,
      "outputs": []
    },
    {
      "cell_type": "code",
      "source": "Path('test.txt').read_text()",
      "metadata": {
        "trusted": true
      },
      "execution_count": null,
      "outputs": []
    },
    {
      "cell_type": "code",
      "source": "from PIL import Image\n\nimg = Image.new('RGB', (60, 30), color=(73, 109, 137))\nimg.save('pil_color.png')",
      "metadata": {
        "trusted": true
      },
      "execution_count": null,
      "outputs": []
    },
    {
      "cell_type": "code",
      "source": "from IPython.display import Image, Markdown, display\nImage(data=Path('pil_color.png'), format='png')",
      "metadata": {
        "trusted": true
      },
      "execution_count": null,
      "outputs": []
    },
    {
      "cell_type": "markdown",
      "source": "### Rename\n\nFiles can be renamed.",
      "metadata": {}
    },
    {
      "cell_type": "code",
      "source": "Path('test.txt').exists()",
      "metadata": {
        "trusted": true
      },
      "execution_count": null,
      "outputs": []
    },
    {
      "cell_type": "code",
      "source": "Path('test.txt').rename(\"test_rename.txt\")",
      "metadata": {
        "trusted": true
      },
      "execution_count": null,
      "outputs": []
    },
    {
      "cell_type": "code",
      "source": "Path('test.txt').exists()",
      "metadata": {
        "trusted": true
      },
      "execution_count": null,
      "outputs": []
    },
    {
      "cell_type": "code",
      "source": "sorted(Path.cwd().glob(\"*\"))",
      "metadata": {
        "trusted": true
      },
      "execution_count": null,
      "outputs": []
    },
    {
      "cell_type": "markdown",
      "source": "### Stat",
      "metadata": {}
    },
    {
      "cell_type": "code",
      "source": "for path in sorted(Path.cwd().glob(\"*\")):\n    display(Markdown(f\"- [{path}]({path.name})\" \"\\n\" f\"  - `{path.stat()}`\"))",
      "metadata": {
        "trusted": true
      },
      "execution_count": null,
      "outputs": []
    },
    {
      "cell_type": "markdown",
      "source": "### Complex IO\n\nSome libraries don't work as expected yet, such as [sqlite3](https://docs.python.org/3/library/sqlite3.html).",
      "metadata": {}
    },
    {
      "cell_type": "code",
      "source": "import sqlite3",
      "metadata": {
        "trusted": true
      },
      "execution_count": null,
      "outputs": []
    },
    {
      "cell_type": "code",
      "source": "def create_database(path):\n    con = sqlite3.connect(path)\n    cur = con.cursor()\n    cur.execute(\"CREATE TABLE movie(title, year, score)\")\n    res = cur.execute(\"SELECT name FROM sqlite_master\")\n    return res.fetchone()",
      "metadata": {
        "trusted": true
      },
      "execution_count": null,
      "outputs": []
    },
    {
      "cell_type": "code",
      "source": "try:\n    create_database(\"tutorial.db\")\n    assert False, \"if we got here, something awesome happened!\"\nexcept sqlite3.OperationalError as err:\n    print(err)",
      "metadata": {
        "trusted": true
      },
      "execution_count": null,
      "outputs": []
    },
    {
      "cell_type": "markdown",
      "source": "For now, one can work in a separate folder:",
      "metadata": {}
    },
    {
      "cell_type": "code",
      "source": "create_database(\"/tmp/tutorial.db\")",
      "metadata": {
        "trusted": true
      },
      "execution_count": null,
      "outputs": []
    },
    {
      "cell_type": "markdown",
      "source": "And copy the file back out.",
      "metadata": {}
    },
    {
      "cell_type": "code",
      "source": "Path(\"/tmp/tutorial.db\").rename(\"/tutorial.db\")",
      "metadata": {
        "trusted": true
      },
      "execution_count": null,
      "outputs": []
    }
  ]
}