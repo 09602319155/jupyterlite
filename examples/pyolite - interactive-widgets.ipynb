{
 "cells": [
  {
   "cell_type": "markdown",
   "id": "9ca234f7-84b7-4107-9bcd-74f5a4ffd07d",
   "metadata": {},
   "source": [
    "# `ipywidgets` Interactive Demo\n",
    "\n",
    "Simple demonstration of rendering Interactive widgets in a `jupyterlite` notebook.\n",
    "\n",
    "Note that `ipywidgets` is installed by default in Pyolite"
   ]
  },
  {
   "cell_type": "code",
   "execution_count": null,
   "id": "3bab23f8-de91-43c9-9cec-84f4924425fc",
   "metadata": {},
   "outputs": [],
   "source": [
    "from ipywidgets import IntSlider"
   ]
  },
  {
   "cell_type": "code",
   "execution_count": null,
   "id": "a15c5acb-ee72-4005-8761-5693db853f22",
   "metadata": {},
   "outputs": [],
   "source": [
    "slider = IntSlider()"
   ]
  },
  {
   "cell_type": "code",
   "execution_count": null,
   "id": "8ba89682-e0d7-4bd2-961a-f9956850fd5a",
   "metadata": {},
   "outputs": [],
   "source": [
    "slider"
   ]
  },
  {
   "cell_type": "code",
   "execution_count": null,
   "id": "50510ade-668f-4477-8cb2-41574609ac73",
   "metadata": {},
   "outputs": [],
   "source": [
    "slider"
   ]
  },
  {
   "cell_type": "code",
   "execution_count": null,
   "id": "7bac1ed8-8c77-426b-a781-1c1a6cfad829",
   "metadata": {},
   "outputs": [],
   "source": [
    "slider.value"
   ]
  },
  {
   "cell_type": "code",
   "execution_count": null,
   "id": "976a70a0-e99d-4c20-b005-f59bbba10f85",
   "metadata": {},
   "outputs": [],
   "source": [
    "slider.value = 5"
   ]
  },
  {
   "cell_type": "code",
   "execution_count": null,
   "id": "3134c76e-cffb-4701-8230-e6c4bfbbfdb9",
   "metadata": {},
   "outputs": [],
   "source": [
    "from ipywidgets import IntText, link"
   ]
  },
  {
   "cell_type": "code",
   "execution_count": null,
   "id": "f7b3fe0a-5695-4ef2-a573-40785e68fbae",
   "metadata": {},
   "outputs": [],
   "source": [
    "text = IntText()"
   ]
  },
  {
   "cell_type": "code",
   "execution_count": null,
   "id": "5e2fd50e-19e0-4e20-a1f7-ad65400ec636",
   "metadata": {},
   "outputs": [],
   "source": [
    "text"
   ]
  },
  {
   "cell_type": "code",
   "execution_count": null,
   "id": "bb3bedce-7311-48c0-aeab-8fe3aa554b92",
   "metadata": {},
   "outputs": [],
   "source": [
    "link((slider, 'value'), (text, 'value'));"
   ]
  },
  {
   "cell_type": "markdown",
   "id": "71b68c3e-184e-4320-9513-d0bc72800a85",
   "metadata": {},
   "source": [
    "# `bqplot` Interactive Demo\n",
    "\n",
    "Plotting in JupyterLite\n",
    "\n",
    "`bqplot` can be installed in this deployment (it provides the bqplot federated extension), but you will need to make your own deployment to have access to other interactive widgets libraries."
   ]
  },
  {
   "cell_type": "code",
   "execution_count": null,
   "id": "119eb9a3-ac98-42c3-98d4-1ac460eb75d3",
   "metadata": {},
   "outputs": [],
   "source": [
    "import micropip\n",
    "\n",
    "await micropip.install('bqplot')"
   ]
  },
  {
   "cell_type": "code",
   "execution_count": null,
   "id": "23b32857-2958-4083-b16a-ac26cd2408d4",
   "metadata": {},
   "outputs": [],
   "source": [
    "from bqplot import *\n",
    "\n",
    "import numpy as np\n",
    "import pandas as pd\n",
    "\n",
    "np.random.seed(0)\n",
    "\n",
    "n = 100\n",
    "\n",
    "x = list(range(n))\n",
    "y = np.cumsum(np.random.randn(n)) + 100.\n",
    "\n",
    "sc_x = LinearScale()\n",
    "sc_y = LinearScale()\n",
    "\n",
    "lines = Lines(\n",
    "    x=x, y=y,\n",
    "    scales={'x': sc_x, 'y': sc_y}\n",
    ")\n",
    "ax_x = Axis(scale=sc_x, label='Index')\n",
    "ax_y = Axis(scale=sc_y, orientation='vertical', label='lines')\n",
    "\n",
    "Figure(marks=[lines], axes=[ax_x, ax_y], title='Lines')"
   ]
  },
  {
   "cell_type": "code",
   "execution_count": null,
   "id": "ddb6b44e-06a0-4049-a79d-33ffc90d5a03",
   "metadata": {},
   "outputs": [],
   "source": [
    "lines.colors = ['green']"
   ]
  },
  {
   "cell_type": "code",
   "execution_count": null,
   "id": "e367e7fb-b403-41aa-9629-224827ec3005",
   "metadata": {},
   "outputs": [],
   "source": [
    "lines.fill = 'bottom'"
   ]
  },
  {
   "cell_type": "code",
   "execution_count": null,
   "id": "d4a167f3-07c4-4880-92f5-7fcdea0c61c6",
   "metadata": {},
   "outputs": [],
   "source": [
    "lines.marker = 'circle'"
   ]
  },
  {
   "cell_type": "code",
   "execution_count": null,
   "id": "1d1342f7-ec08-4f53-84dc-d712226d9e46",
   "metadata": {},
   "outputs": [],
   "source": [
    "n = 100\n",
    "\n",
    "x = list(range(n))\n",
    "y = np.cumsum(np.random.randn(n))\n",
    "\n",
    "sc_x = LinearScale()\n",
    "sc_y = LinearScale()\n",
    "\n",
    "bars = Bars(\n",
    "    x=x, y=y,\n",
    "    scales={'x': sc_x, 'y': sc_y}\n",
    ")\n",
    "ax_x = Axis(scale=sc_x, label='Index')\n",
    "ax_y = Axis(scale=sc_y, orientation='vertical', label='bars')\n",
    "\n",
    "Figure(marks=[bars], axes=[ax_x, ax_y], title='Bars', animation_duration=1000)"
   ]
  },
  {
   "cell_type": "code",
   "execution_count": null,
   "id": "f86bbcfb-5b02-4700-b8d6-f90068893b55",
   "metadata": {},
   "outputs": [],
   "source": [
    "bars.y = np.cumsum(np.random.randn(n))"
   ]
  },
  {
   "cell_type": "markdown",
   "id": "557c81dd-dddb-411d-8350-baa12440da6c",
   "metadata": {
    "tags": []
   },
   "source": [
    "# `ipydatagrid` Interactive Demo\n",
    "\n",
    "Datagrid in JupyterLite\n",
    "\n",
    "`ipydatagrid` can be installed in this deployment (it provides the ipydatagrid federated extension), but you will need to make your own deployment to have access to other interactive widgets libraries."
   ]
  },
  {
   "cell_type": "code",
   "execution_count": null,
   "id": "7e90dd6a-8968-48c1-8551-7a5e68ead85d",
   "metadata": {},
   "outputs": [],
   "source": [
    "import micropip\n",
    "\n",
    "await micropip.install('ipydatagrid')"
   ]
  },
  {
   "cell_type": "code",
   "execution_count": null,
   "id": "8821bfe9-cc54-44c8-9bf9-255020e8b23f",
   "metadata": {},
   "outputs": [],
   "source": [
    "from random import uniform\n",
    "\n",
    "import pandas as pd\n",
    "\n",
    "from ipydatagrid import DataGrid, TextRenderer, BarRenderer, Expr\n",
    "\n",
    "from py2vega.constants import SQRT1_2\n",
    "\n",
    "n_columns = 100\n",
    "n_rows = 100\n",
    "\n",
    "\n",
    "data = {\"data\": [], \"schema\": {}}\n",
    "\n",
    "data[\"data\"] = [\n",
    "    [uniform(0, 1) for c in range(n_columns)] for r in range(n_rows)\n",
    "]\n",
    "data[\"schema\"][\"fields\"] = [\n",
    "    {\"name\": str(c), type: \"number\"} for c in range(n_columns)\n",
    "]\n",
    "\n",
    "\n",
    "def renderer_function(cell, default_value):\n",
    "    return \"#fc8403\" if cell.value < SQRT1_2 else default_value\n",
    "\n",
    "\n",
    "conditional_expression = Expr(renderer_function)\n",
    "\n",
    "default_renderer = TextRenderer(\n",
    "    background_color=conditional_expression, format=\".3f\"\n",
    ")\n",
    "\n",
    "df = pd.DataFrame(data[\"data\"])\n",
    "\n",
    "datagrid = DataGrid(df, default_renderer=default_renderer)"
   ]
  },
  {
   "cell_type": "code",
   "execution_count": null,
   "id": "ca8b0aa8-215e-42fc-8b55-5d350a09371f",
   "metadata": {},
   "outputs": [],
   "source": [
    "from ipywidgets import FloatSlider, Dropdown, ColorPicker, HBox, VBox\n",
    "\n",
    "operator_dropdown = Dropdown(options=[\"<\", \">\"], value=\"<\")\n",
    "reference_slider = FloatSlider(value=0.5, min=0, max=1)\n",
    "output_colorpicker = ColorPicker(value=\"#fc8403\")\n",
    "\n",
    "\n",
    "def on_change(*args, **kwargs):\n",
    "    conditional_expression.value = \"'{color}' if cell.value {operator} {reference} else default_value\".format(\n",
    "        operator=operator_dropdown.value,\n",
    "        reference=reference_slider.value,\n",
    "        color=output_colorpicker.value,\n",
    "    )\n",
    "\n",
    "\n",
    "operator_dropdown.observe(on_change, \"value\")\n",
    "reference_slider.observe(on_change, \"value\")\n",
    "output_colorpicker.observe(on_change, \"value\")\n",
    "\n",
    "hbox = HBox((operator_dropdown, reference_slider, output_colorpicker))\n",
    "VBox([datagrid, hbox])"
   ]
  },
  {
   "cell_type": "markdown",
   "id": "081dcbbc-2583-4271-9728-5000936dbc26",
   "metadata": {},
   "source": [
    "# `ipygany` Interactive Demo\n",
    "\n",
    "3D Scientific visualization in JupyterLite\n",
    "\n",
    "`ipygany` can be installed in this deployment (it provides the ipygany federated extension), but you will need to make your own deployment to have access to other interactive widgets libraries."
   ]
  },
  {
   "cell_type": "code",
   "execution_count": null,
   "id": "8842d307",
   "metadata": {},
   "outputs": [],
   "source": [
    "import micropip\n",
    "\n",
    "await micropip.install('ipygany')"
   ]
  },
  {
   "cell_type": "code",
   "execution_count": null,
   "id": "eff0ecfc-46d2-42fc-8d3e-c88ae3d22e02",
   "metadata": {},
   "outputs": [],
   "source": [
    "import numpy as np\n",
    "from ipywidgets import FloatSlider, FloatRangeSlider, Dropdown, Select, VBox, AppLayout, jslink\n",
    "from ipygany import Scene, IsoColor, Threshold, PolyMesh, Component, ColorBar, colormaps\n",
    "\n",
    "\n",
    "# Create triangle indices\n",
    "nx = 100\n",
    "ny = 100\n",
    "\n",
    "triangle_indices = np.empty((ny - 1, nx - 1, 2, 3), dtype=int)\n",
    "\n",
    "r = np.arange(nx * ny).reshape(ny, nx)\n",
    "\n",
    "triangle_indices[:, :, 0, 0] = r[:-1, :-1]\n",
    "triangle_indices[:, :, 1, 0] = r[:-1, 1:]\n",
    "triangle_indices[:, :, 0, 1] = r[:-1, 1:]\n",
    "\n",
    "triangle_indices[:, :, 1, 1] = r[1:, 1:]\n",
    "triangle_indices[:, :, :, 2] = r[1:, :-1, None]\n",
    "\n",
    "triangle_indices.shape = (-1, 3)\n",
    "\n",
    "# Create vertices\n",
    "x = np.arange(-5, 5, 10/nx)\n",
    "y = np.arange(-5, 5, 10/ny)\n",
    "\n",
    "xx, yy = np.meshgrid(x, y, sparse=True)\n",
    "\n",
    "z = np.sin(xx**2 + yy**2) / (xx**2 + yy**2)\n",
    "\n",
    "vertices = np.empty((ny, nx, 3))\n",
    "vertices[:, :, 0] = xx\n",
    "vertices[:, :, 1] = yy\n",
    "vertices[:, :, 2] = z\n",
    "vertices = vertices.reshape(nx * ny, 3)\n",
    "\n",
    "height_component = Component(name='value', array=z)\n",
    "\n",
    "mesh = PolyMesh(\n",
    "    vertices=vertices,\n",
    "    triangle_indices=triangle_indices,\n",
    "    data={'height': [height_component]}\n",
    ")\n",
    "\n",
    "height_min = np.min(z)\n",
    "height_max = np.max(z)\n",
    "\n",
    "# Colorize by height\n",
    "colored_mesh = IsoColor(mesh, input='height', min=height_min, max=height_max)\n",
    "\n",
    "# Create a slider that will dynamically change the boundaries of the colormap\n",
    "colormap_slider_range = FloatRangeSlider(value=[height_min, height_max], min=height_min, max=height_max, step=(height_max - height_min) / 100., description='color')\n",
    "\n",
    "jslink((colored_mesh, 'range'), (colormap_slider_range, 'value'))\n",
    "\n",
    "# Create a colorbar widget\n",
    "colorbar = ColorBar(colored_mesh)\n",
    "\n",
    "# Colormap choice widget\n",
    "colormap = Dropdown(\n",
    "    options=colormaps,\n",
    "    description='colormap:'\n",
    ")\n",
    "\n",
    "jslink((colored_mesh, 'colormap'), (colormap, 'index'))\n",
    "\n",
    "# Threshold effect\n",
    "threshold_mesh = Threshold(colored_mesh, input='height', min=height_min, max=height_max)\n",
    "\n",
    "# Create a slider that will dynamically change the boundaries of the threshold\n",
    "threshold_slider_range = FloatRangeSlider(value=[height_min, height_max], min=height_min, max=height_max, step=(height_max - height_min) / 100., description=\"threshold\")\n",
    "\n",
    "jslink((threshold_mesh, 'range'), (threshold_slider_range, 'value'))\n",
    "\n",
    "\n",
    "AppLayout(\n",
    "    left_sidebar=Scene([threshold_mesh]),\n",
    "    right_sidebar=VBox((colormap_slider_range, colormap, colorbar, threshold_slider_range)),\n",
    "    pane_widths=[2, 0, 1]\n",
    ")"
   ]
  }
 ],
 "metadata": {
  "kernelspec": {
   "display_name": "Python 3",
   "language": "python",
   "name": "python3"
  },
  "language_info": {
   "codemirror_mode": {
    "name": "ipython",
    "version": 3
   },
   "file_extension": ".py",
   "mimetype": "text/x-python",
   "name": "python",
   "nbconvert_exporter": "python",
   "pygments_lexer": "ipython3",
   "version": "3.8.10"
  }
 },
 "nbformat": 4,
 "nbformat_minor": 5
}
