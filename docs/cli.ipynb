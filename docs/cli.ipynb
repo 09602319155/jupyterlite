{
 "cells": [
  {
   "cell_type": "markdown",
   "id": "086cc19a-639d-441f-8489-9b822e3d5e45",
   "metadata": {
    "tags": []
   },
   "source": [
    "# CLI"
   ]
  },
  {
   "cell_type": "code",
   "execution_count": null,
   "id": "0ff8b805-53e7-40b0-a069-e2b2445ae9ff",
   "metadata": {},
   "outputs": [],
   "source": [
    "# these are needed for the docs site\n",
    "from IPython import get_ipython"
   ]
  },
  {
   "cell_type": "markdown",
   "id": "7b7c1556-a706-41fc-b858-2d3b55907003",
   "metadata": {
    "tags": []
   },
   "source": [
    "The `jupyter lite` (or `jupyter-lite`) CLI provides tools for lifecycle of combining...\n",
    "- **user-authored content** like _Notebooks_ and _Lab Extensions_.\n",
    "- the core JupyterLite **static assets** \n",
    "\n",
    "... into a **ready-to-[deploy](./deploying.md) site** and **[reproducible](#Reproducibility) archives**."
   ]
  },
  {
   "cell_type": "markdown",
   "id": "716098de-aacc-44ab-a78e-136a1a394bdb",
   "metadata": {},
   "source": [
    "## Installation"
   ]
  },
  {
   "cell_type": "code",
   "execution_count": null,
   "id": "674839c9-ab5c-43d1-9dda-d94554ee790d",
   "metadata": {},
   "outputs": [],
   "source": [
    "!pip install jupyterlite\n",
    "!jupyter lite --version"
   ]
  },
  {
   "cell_type": "markdown",
   "id": "344d0c39-0f36-493d-ba08-6c8814c05086",
   "metadata": {},
   "source": [
    "### Extras"
   ]
  },
  {
   "cell_type": "markdown",
   "id": "2a22683e-3c78-4271-b30a-60de50d2b5af",
   "metadata": {},
   "source": [
    "Some extra features of different _addons_ have additional dependencies.\n",
    "\n",
    "```bash\n",
    "pip install jupyterlite[contents]  # jupyter_server for better contents API\n",
    "pip install jupyterlite[serve]  # tornado for better local preview\n",
    "pip install jupyterlite[lab]  # a known-compatible jupyterlab (entails `contents` and `serve`)\n",
    "# TODO: [archive]  # use libarchive\n",
    "```"
   ]
  },
  {
   "cell_type": "markdown",
   "id": "3dce75b4-2588-40d5-a0b3-2335806d7be4",
   "metadata": {},
   "source": [
    "## The Lite Dir\n",
    "\n",
    "When you run `jupyter lite` commands, it assumes your current working directory is the partial contents of a JupyterLite site. You can override this with `--lite-dir`. By default, the built site will be created in `_output`, but can be overridden with `--output-dir`."
   ]
  },
  {
   "cell_type": "code",
   "execution_count": null,
   "id": "fefc0961-21dd-42ad-9ec7-56b55b0ec50f",
   "metadata": {},
   "outputs": [],
   "source": [
    "import os, pathlib, tempfile\n",
    "\n",
    "if \"TMP_DIR\" not in globals():\n",
    "    TMP_DIR = pathlib.Path(tempfile.mkdtemp(prefix=\"_my_lite_dir_\"))\n",
    "os.chdir(TMP_DIR)\n",
    "pathlib.Path.cwd()"
   ]
  },
  {
   "cell_type": "markdown",
   "id": "833eafef-c5fd-4e4e-b3b6-6ed5aed622d6",
   "metadata": {},
   "source": [
    "### Well-known Files\n",
    "\n",
    "Some files in your `--lite-dir` that have special meaning:"
   ]
  },
  {
   "cell_type": "markdown",
   "id": "c315615d-023c-4d75-b3c8-3a51abc838bf",
   "metadata": {},
   "source": [
    "| paths                       | file                | if found                                       |\n",
    "|-----------------------------|---------------------|------------------------------------------------|\n",
    "| `.`<br/>`./lab`<br/>`./retro` | `jupyter-lite.json` | merge contents with static in `_output/{path}/jupyter-lite.json` |\n",
    "| `.`<br/>`./lab`<br/>`./retro` | `overrides.json`    | merge with static `_output/{*}/jupyter-lite.json`          ||\n",
    "| `./files/`                    | `*`                 | copy verbatim to `_output/files/*` and index in `/api/contents` |"
   ]
  },
  {
   "cell_type": "markdown",
   "id": "67fa52f4-dab3-4158-8ae8-fff2442dc2b1",
   "metadata": {},
   "source": [
    "## Usage\n",
    "\n",
    "The CLI provides its own documentation, under `--help` (or `-h`)"
   ]
  },
  {
   "cell_type": "code",
   "execution_count": null,
   "id": "44bf9602-35ae-4a89-bc01-f8bd65567133",
   "metadata": {},
   "outputs": [],
   "source": [
    "!jupyter lite --help"
   ]
  },
  {
   "cell_type": "markdown",
   "id": "bdfdc1ad-a690-4dfd-b4e2-fe4cfda05443",
   "metadata": {},
   "source": [
    "### Status\n",
    "\n",
    "This command is always safe to run, and provides an overview of what JupyterLite has been up to."
   ]
  },
  {
   "cell_type": "code",
   "execution_count": null,
   "id": "83cc3606-a0e1-4f88-bd77-12c6d2d74785",
   "metadata": {},
   "outputs": [],
   "source": [
    "!jupyter lite status"
   ]
  },
  {
   "cell_type": "markdown",
   "id": "71523b95-096e-4ca9-b383-f453e591df6b",
   "metadata": {},
   "source": [
    "### List\n",
    "\n",
    "This command is always safe to run, and provides an overview of what JupyterLite _might_ do.\n",
    "\n",
    "> _TODO: improve on default output_"
   ]
  },
  {
   "cell_type": "code",
   "execution_count": null,
   "id": "7e2da6c4-d1cc-4a78-a22c-ce88c9d0c46a",
   "metadata": {},
   "outputs": [],
   "source": [
    "!jupyter lite list"
   ]
  },
  {
   "cell_type": "markdown",
   "id": "0fac0352-03c8-4342-aa1e-bbca4d6b9706",
   "metadata": {},
   "source": [
    "### Init\n",
    "\n",
    "This copies all the static data to the `--output-dir`."
   ]
  },
  {
   "cell_type": "code",
   "execution_count": null,
   "id": "bff9693b-08a8-4be7-a248-dc3ee8b1055d",
   "metadata": {},
   "outputs": [],
   "source": [
    "!jupyter lite init"
   ]
  },
  {
   "cell_type": "markdown",
   "id": "deb8643d-adb7-42fa-8408-3a6d7ecd2e84",
   "metadata": {},
   "source": [
    "### Build\n",
    "\n",
    "This copies all the **user-authored content** to the `--output-dir`, and applies appropriate changes to e.g. generated Contents API responses."
   ]
  },
  {
   "cell_type": "code",
   "execution_count": null,
   "id": "a234a07b-07d7-4320-b260-f59882d456e6",
   "metadata": {},
   "outputs": [],
   "source": [
    "!jupyter lite build"
   ]
  },
  {
   "cell_type": "markdown",
   "id": "6b437ed9-4a8b-42cf-a8da-a1282daed39c",
   "metadata": {},
   "source": [
    "### Check\n",
    "\n",
    "Use all available mechanisms to verify that the build folder conforms to schema, etc."
   ]
  },
  {
   "cell_type": "code",
   "execution_count": null,
   "id": "0bf76f11-6a45-4c4f-bc02-3a49f39ab799",
   "metadata": {},
   "outputs": [],
   "source": [
    "!jupyter lite check"
   ]
  },
  {
   "cell_type": "markdown",
   "id": "b554754d-9c38-4f2f-9633-659c83fc8867",
   "metadata": {},
   "source": [
    "### Archive\n",
    "\n",
    "Turn the _output directory_ into `.tgz` file. This is usually easier to move around than (sometimes) hundreds of files, and can be used as the baseline for future sites."
   ]
  },
  {
   "cell_type": "code",
   "execution_count": null,
   "id": "05fb9e31-2f5e-497c-9a17-5523da383582",
   "metadata": {},
   "outputs": [],
   "source": [
    "!jupyter lite archive"
   ]
  },
  {
   "cell_type": "markdown",
   "id": "cc782c85-716b-40b6-b1bd-b4075fe41424",
   "metadata": {},
   "source": [
    "But let's talk about a more _reproducible_ asset."
   ]
  },
  {
   "cell_type": "code",
   "execution_count": null,
   "id": "2f933e5a-a9c5-4f09-824e-b70cc6f2fcdb",
   "metadata": {},
   "outputs": [],
   "source": [
    "import shutil\n",
    "shutil.rmtree(TMP_DIR / \"_output\")"
   ]
  },
  {
   "cell_type": "markdown",
   "id": "d6376cc0-94bf-4558-8808-824364a03cd7",
   "metadata": {},
   "source": [
    "#### Reproducibility\n",
    "\n",
    "> _🛠️ This feature is a **work-in-progress**, and should not be relied upon by any production workflows **Just Yet**._"
   ]
  },
  {
   "cell_type": "markdown",
   "id": "5206b427-96a1-4e11-9d35-636b166a122e",
   "metadata": {},
   "source": [
    "If the `--source-date-epoch` is given, a number of measures will be taken to *try to ensure* that the output of `jupyter lite archive`, an npm-compatible `tgz` package, always returns a bit-for-bit [reproducible build](https://reproducible-builds.org).\n",
    "\n",
    "The most obvious change is that the modified time of each file \"clamped\" to that time. Some other changes:\n",
    "- file ownership will be reset\n",
    "- predictable sorting will be used\n",
    "- additional checks will be applied\n",
    "\n",
    "```{note}\n",
    "This is a shortcut for setting the environment variable `SOURCE_DATE_EPOCH`:\n",
    "\n",
    "| platform         | command                                               |\n",
    "|------------------|-------------------------------------------------------|\n",
    "| Linux<br/>MacOS  | `export SOURCE_DATE_EPOCH=<a timestamp>`              |\n",
    "| Windows          | `set SOURCE_DATE_EPOCH=<a timestamp>`                 |\n",
    "| Python           | `os.environ.update(SOURCE_DATE_EPOCH, <a timestamp>)` |\n",
    "```"
   ]
  },
  {
   "cell_type": "code",
   "execution_count": null,
   "id": "3c83b952-793a-4def-9266-4371ce8a1134",
   "metadata": {},
   "outputs": [],
   "source": [
    "if not \"source_date_epoch\" in globals():\n",
    "    from datetime import datetime\n",
    "    source_date_epoch = int(datetime.utcnow().timestamp())\n",
    "    \n",
    "print(\"SOURCE_DATE_EPOCH is\", source_date_epoch)"
   ]
  },
  {
   "cell_type": "code",
   "execution_count": null,
   "id": "692f442b-2def-40b3-a7d4-3503c57b56a5",
   "metadata": {},
   "outputs": [],
   "source": [
    "!jupyter lite archive --source-date-epoch {source_date_epoch} --output-archive ./a.tgz"
   ]
  },
  {
   "cell_type": "markdown",
   "id": "0071cee2-6ce3-4b63-969b-b35842b30e96",
   "metadata": {},
   "source": [
    "If we clear out our `_output`, and rebuild, we should always get the same file."
   ]
  },
  {
   "cell_type": "code",
   "execution_count": null,
   "id": "da804722-186e-4c20-b89d-96734e0488b6",
   "metadata": {},
   "outputs": [],
   "source": [
    "import shutil\n",
    "shutil.rmtree(TMP_DIR / \"_output\")\n",
    "!jupyter lite archive --source-date-epoch {source_date_epoch} --output-archive ./b.tgz"
   ]
  },
  {
   "cell_type": "code",
   "execution_count": null,
   "id": "6dc180b1-72ae-489d-9271-49337066062f",
   "metadata": {},
   "outputs": [],
   "source": [
    "from hashlib import sha256\n",
    "a, b = [sha256((TMP_DIR / f\"{x}.tgz\").read_bytes()).hexdigest() for x in \"ab\"]\n",
    "print(\"We built app archives with the SHA256SUMS of:\\n\", a, \"\\n\", b)\n",
    "try:\n",
    "    assert a == b, \"We did not reproducibly build today.\\n- {}\\n- {}\\n\\n\".format(a, b)\n",
    "except AssertionError as err:\n",
    "    if shutil.which(\"diffoscope\"):\n",
    "        print(\"We did NOT reproducibly build today, checking in with `diffoscope`...\")\n",
    "        !diffoscope a.tgz b.tgz\n",
    "    print(\"...but at least we tried REALY hard!\\n\")"
   ]
  }
 ],
 "metadata": {
  "kernelspec": {
   "display_name": "Python 3",
   "language": "python",
   "name": "python3"
  },
  "language_info": {
   "codemirror_mode": {
    "name": "ipython",
    "version": 3
   },
   "file_extension": ".py",
   "mimetype": "text/x-python",
   "name": "python",
   "nbconvert_exporter": "python",
   "pygments_lexer": "ipython3",
   "version": "3.8.10"
  },
  "toc-autonumbering": true
 },
 "nbformat": 4,
 "nbformat_minor": 5
}
